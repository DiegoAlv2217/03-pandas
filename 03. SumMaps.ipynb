{
  "cells": [
    {
      "cell_type": "markdown",
      "metadata": {},
      "source": [
        "# Funciones Sumarias y Mapeos\n",
        "\n",
        "En este JNB se revisará el tema de Funciones Sumarias y Mapeos en Pandas"
      ]
    },
    {
      "cell_type": "markdown",
      "metadata": {},
      "source": [
        "Summary functions"
      ]
    },
    {
      "cell_type": "code",
      "execution_count": null,
      "metadata": {
        "id": "O8NoTzxjs2wK",
        "outputId": "fa4bc249-a4fa-48a6-9dc6-7733646ed223"
      },
      "outputs": [
        {
          "name": "stdout",
          "output_type": "stream",
          "text": [
            "Hello World!\n"
          ]
        }
      ],
      "source": [
        "reviews\n",
        "#Esto muestra el contenido de la variable reviews\n",
        "\n",
        "#Summary Functions\n",
        "reviews.points.describe()\n",
        "#Esto muestra un resumen de la variable points\n",
        "#Describe la variable points\n",
        "\n",
        "reviews.taster_name.describe()\n",
        "#Esto muestra un resumen de la variable taster_name\n",
        "#muestra la cantidad de valores unicos, el valor mas frecuente y la frecuencia de este\n",
        "\n",
        "reviews.points.mean()\n",
        "#Esto muestra el promedio de la variable points\n",
        "#Esto es muy util debido a que nos da una idea de la calificacion promedio de los vinos\n",
        "\n",
        "reviews.taster_name.unique()\n",
        "#Esto muestra los valores unicos de la variable taster_name\n",
        "#Esto es util para saber cuantos catadores hay en el dataset\n",
        "\n",
        "reviews.taster_name.value_counts()\n",
        "#Esto muestra la cantidad de veces que aparece cada valor en la variable taster_name\n",
        "#Esto es util para saber cuantos vinos ha catado cada catador\n",
        "\n"
      ]
    },
    {
      "cell_type": "markdown",
      "metadata": {},
      "source": [
        "Maps"
      ]
    },
    {
      "cell_type": "code",
      "execution_count": null,
      "metadata": {},
      "outputs": [],
      "source": [
        "#Un mapa es una funcion que toma un conjunto de valores y los transforma en otro conjunto de valores\n",
        "#En ciencia de datos se utilizan mucho los mapas para transformar datos de un formato a otro\n",
        "\n",
        "#Existen dos tipos de mapas en pandas\n",
        "#1.- map() - solo funciona en series\n",
        "#2.- apply() - funciona en series\n",
        "\n",
        "review_points_mean = reviews.points.mean()\n",
        "reviews.points.map(lambda p: p - review_points_mean)\n",
        "#Esto resta el promedio de la variable points a cada valor de la variable points\n",
        "#La funcion lambda es una funcion anonima que se utiliza para realizar operaciones rapidas\n",
        "#En este caso se resta el promedio de la variable points a cada valor de la variable points\n",
        "#La sintaxis de la funcion lambda es la siguiente\n",
        "#lambda argumentos: expresion\n",
        "#En este caso el argumento es p y la expresion es p - review_points_mean   \n",
        "\n",
        "def remean_points(row):\n",
        "    row.points = row.points - review_points_mean\n",
        "    return row\n",
        "\n",
        "reviews.apply(remean_points, axis='columns')\n",
        "\n",
        "#Esto resta el promedio de la variable points a cada valor de la variable points\n",
        "#La funcion remean_points toma una fila y le resta el promedio de la variable points\n",
        "#El argumento row es una fila del dataset\n",
        "#La funcion remean_points se aplica a cada fila del dataset\n",
        "#La funcion apply() se aplica a cada fila del dataset\n",
        "\n",
        "reviews.head(1)\n",
        "#Esto muestra el primer registro del dataset\n",
        "\n",
        "review_points_mean = reviews.points.mean()\n",
        "reviews.points - review_points_mean\n",
        "#Esto resta el promedio de la variable points a cada valor de la variable points\n",
        "\n",
        "reviews.country + \" - \" + reviews.region_1\n",
        "#Esto concatena las variables country y region_1\n",
        "#Esto es util para crear nuevas variables"
      ]
    },
    {
      "cell_type": "markdown",
      "metadata": {},
      "source": [
        "EJERCICIOS EN KAGGLE"
      ]
    },
    {
      "cell_type": "markdown",
      "metadata": {},
      "source": [
        "1. What is the median of the points column in the reviews DataFrame?"
      ]
    },
    {
      "cell_type": "code",
      "execution_count": null,
      "metadata": {},
      "outputs": [],
      "source": [
        "median_points = reviews.points.median()\n",
        "median_points\n",
        "#Esto muestra la mediana de la variable points"
      ]
    },
    {
      "cell_type": "markdown",
      "metadata": {},
      "source": [
        "2. What countries are represented in the dataset? (Your answer should not include any duplicates.)"
      ]
    },
    {
      "cell_type": "code",
      "execution_count": null,
      "metadata": {},
      "outputs": [],
      "source": [
        "countries = reviews.country.unique()\n",
        "countries\n",
        "#Esto muestra los valores unicos de la variable country"
      ]
    },
    {
      "cell_type": "markdown",
      "metadata": {},
      "source": [
        "3. How often does each country appear in the dataset? Create a Series reviews_per_country mapping countries to the count of reviews of wines from that country."
      ]
    },
    {
      "cell_type": "code",
      "execution_count": null,
      "metadata": {},
      "outputs": [],
      "source": [
        "reviews_per_country = reviews.country.value_counts()\n",
        "reviews_per_country\n"
      ]
    },
    {
      "cell_type": "markdown",
      "metadata": {},
      "source": [
        "4. Create variable centered_price containing a version of the price column with the mean price subtracted.\n",
        "\n",
        "(Note: this 'centering' transformation is a common preprocessing step before applying various machine learning algorithms.)"
      ]
    },
    {
      "cell_type": "code",
      "execution_count": null,
      "metadata": {},
      "outputs": [],
      "source": [
        "centered_price = reviews.price - reviews.price.mean()\n",
        "centered_price\n",
        "#Esto resta el promedio de la variable price a cada valor de la variable price"
      ]
    },
    {
      "cell_type": "markdown",
      "metadata": {},
      "source": [
        "5. I'm an economical wine buyer. Which wine is the \"best bargain\"? Create a variable bargain_wine with the title of the wine with the highest points-to-price ratio in the dataset."
      ]
    },
    {
      "cell_type": "code",
      "execution_count": null,
      "metadata": {},
      "outputs": [],
      "source": [
        "bargain_idx = (reviews.points / reviews.price).idxmax()\n",
        "bargain_wine = reviews.loc[bargain_idx, 'title']\n",
        "bargain_wine\n",
        "#Esto muestra el vino con la mejor relacion calidad-precio\n",
        "#Para esto se divide la variable points entre la variable price\n",
        "#Se busca el indice del vino con la mejor relacion calidad-precio\n",
        "#Se busca el vino con el indice encontrado"
      ]
    },
    {
      "cell_type": "markdown",
      "metadata": {},
      "source": [
        "6. There are only so many words you can use when describing a bottle of wine. Is a wine more likely to be \"tropical\" or \"fruity\"? Create a Series descriptor_counts counting how many times each of these two words appears in the description column in the dataset. (For simplicity, let's ignore the capitalized versions of these words.)"
      ]
    },
    {
      "cell_type": "code",
      "execution_count": null,
      "metadata": {},
      "outputs": [],
      "source": [
        "n_trop = reviews.description.map(lambda desc: \"tropical\" in desc).sum()\n",
        "n_fruity = reviews.description.map(lambda desc: \"fruity\" in desc).sum()\n",
        "descriptor_counts = pd.Series([n_trop, n_fruity], index=['tropical', 'fruity'])\n",
        "descriptor_counts\n",
        "#Esto cuenta cuantas veces aparece la palabra tropical y cuantas veces aparece la palabra fruity en la variable description\n",
        "#Se crea un diccionario con los conteos\n",
        "#Se crea una serie con los conteos\n",
        "#La funcion map() se utiliza para aplicar una funcion a cada valor de la variable description\n",
        "#La funcion lambda se utiliza para buscar una palabra en cada valor de la variable description\n",
        "#La funcion sum() se utiliza para sumar los valores encontrados\n",
        "#La funcion pd.Series() se utiliza para crear una serie\n",
        "#El argumento index se utiliza para nombrar los valores de la serie"
      ]
    },
    {
      "cell_type": "markdown",
      "metadata": {},
      "source": [
        "7. We'd like to host these wine reviews on our website, but a rating system ranging from 80 to 100 points is too hard to understand - we'd like to translate them into simple star ratings. A score of 95 or higher counts as 3 stars, a score of at least 85 but less than 95 is 2 stars. Any other score is 1 star.\n",
        "\n",
        "Also, the Canadian Vintners Association bought a lot of ads on the site, so any wines from Canada should automatically get 3 stars, regardless of points.\n",
        "\n",
        "Create a series star_ratings with the number of stars corresponding to each review in the dataset."
      ]
    },
    {
      "cell_type": "code",
      "execution_count": null,
      "metadata": {},
      "outputs": [],
      "source": [
        "def stars(row):\n",
        "    if row.country == 'Canada':\n",
        "        return 3\n",
        "    elif row.points >= 95:\n",
        "        return 3\n",
        "    elif row.points >= 85:\n",
        "        return 2\n",
        "    else:\n",
        "        return 1\n",
        "    \n",
        "star_ratings = reviews.apply(stars, axis='columns')\n",
        "star_ratings\n",
        "#Esto crea una nueva variable llamada star_ratings\n",
        "#La funcion stars toma una fila y asigna una calificacion\n",
        "#La funcion apply() se aplica a cada fila del dataset\n",
        "#El argumento axis='columns' se utiliza para aplicar la funcion a cada fila del dataset"
      ]
    },
    {
      "cell_type": "markdown",
      "metadata": {},
      "source": []
    }
  ],
  "metadata": {
    "colab": {
      "include_colab_link": true,
      "provenance": []
    },
    "kernelspec": {
      "display_name": "Python 3.10.7 64-bit",
      "language": "python",
      "name": "python3"
    },
    "language_info": {
      "codemirror_mode": {
        "name": "ipython",
        "version": 3
      },
      "file_extension": ".py",
      "mimetype": "text/x-python",
      "name": "python",
      "nbconvert_exporter": "python",
      "pygments_lexer": "ipython3",
      "version": "3.10.7"
    },
    "orig_nbformat": 4,
    "vscode": {
      "interpreter": {
        "hash": "eb4a0ac80907d7f44e1a5e88d3d3381b33e3dbedd3a24d113e876f30a0c46bee"
      }
    }
  },
  "nbformat": 4,
  "nbformat_minor": 0
}
