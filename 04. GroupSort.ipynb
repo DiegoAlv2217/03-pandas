{
  "cells": [
    {
      "cell_type": "markdown",
      "metadata": {},
      "source": [
        "# Agrupamiento y Sorteo\n",
        "\n",
        "En este JNB se revisará el tema de Agrupamiento y Sorteo en Pandas."
      ]
    },
    {
      "cell_type": "code",
      "execution_count": null,
      "metadata": {
        "id": "O8NoTzxjs2wK",
        "outputId": "fa4bc249-a4fa-48a6-9dc6-7733646ed223"
      },
      "outputs": [
        {
          "name": "stdout",
          "output_type": "stream",
          "text": [
            "Hello World!\n"
          ]
        }
      ],
      "source": [
        "#El agrupamiento jerárquico es un algoritmo de agrupamiento que construye una jerarquía de grupos.\n",
        "#Este algoritmo es particularmente interesante porque genera un árbol de clústeres que puede ser útil para entender la estructura de los datos.\n",
        "#Para ello, utilizaremos la distancia euclidiana y el método de enlace completo.\n",
        "#El método de enlace completo es un método de agrupamiento jerárquico que se basa en la distancia máxima entre los elementos de dos clústeres.\n",
        "\n",
        "#El sorteo es un algoritmo de agrupamiento que asigna cada punto a un clúster de acuerdo con la probabilidad de que pertenezca a ese clúster.\n",
        "#Para ello, utilizaremos la distancia euclidiana y la función de densidad de probabilidad gaussiana.\n",
        "#La función de densidad de probabilidad gaussiana es una función que describe la probabilidad de que una variable aleatoria tenga un valor en un rango específico.\n",
        "#En este caso, utilizaremos la distancia euclidiana entre los puntos y los centroides de los clústeres como la variable aleatoria."
      ]
    },
    {
      "cell_type": "markdown",
      "metadata": {},
      "source": [
        "Groupwise analysis"
      ]
    },
    {
      "cell_type": "code",
      "execution_count": null,
      "metadata": {},
      "outputs": [],
      "source": [
        "reviews.groupby('points').points.count()\n",
        "#El método groupby de pandas se utiliza para agrupar los datos en función de una o más columnas.\n",
        "#En este caso, agruparemos los datos por la columna 'points' y contaremos el número de elementos en cada grupo.\n",
        "#Esto nos dará una idea de la distribución de las puntuaciones de los vinos en el conjunto de datos.\n",
        "\n",
        "reviews.groupby('points').price.min()\n",
        "#En este caso, agruparemos los datos por la columna 'points' y calcularemos el precio mínimo en cada grupo.\n",
        "#Esto nos dará una idea de los precios mínimos de los vinos en función de su puntuación.\n",
        "#La función min se utiliza para calcular el valor mínimo en una serie de datos.\n",
        "\n",
        "reviews.groupby('winery').apply(lambda df: df.title.iloc[0])\n",
        "#El método apply de pandas se utiliza para aplicar una función a cada grupo de datos.\n",
        "#En este caso, aplicaremos una función lambda que selecciona el primer título de vino en cada grupo.\n",
        "#Esto nos dará una idea de los vinos producidos por cada bodega en el conjunto de datos.\n",
        "\n",
        "reviews.groupby(['country', 'province']).apply(lambda df: df.loc[df.points.idxmax()])\n",
        "#En este caso, agruparemos los datos por las columnas 'country' y 'province' y \n",
        "# seleccionaremos el vino con la puntuación máxima en cada grupo.\n",
        "#Para ello, utilizaremos la función idxmax para obtener el índice del vino con la puntuación máxima en cada grupo.\n",
        "#Esto nos dará una idea de los vinos mejor puntuados en cada país y provincia.\n",
        "\n",
        "reviews.groupby(['country']).price.agg([len, min, max])\n",
        "#En este caso, agruparemos los datos por la columna 'country' y calcularemos el número de elementos, \n",
        "# el precio mínimo y el precio máximo en cada grupo.\n",
        "#Esto nos dará una idea de la distribución de los precios de los vinos en cada país.\n",
        "#La función agg se utiliza para aplicar múltiples funciones a una serie de datos.\n",
        "#Su sintaixs es agg([funcion1, funcion2, ...])."
      ]
    },
    {
      "cell_type": "markdown",
      "metadata": {},
      "source": [
        "MultiIndexamiento"
      ]
    },
    {
      "cell_type": "code",
      "execution_count": null,
      "metadata": {},
      "outputs": [],
      "source": [
        "#El multi-índice es una estructura de datos que permite tener más de un índice en un DataFrame de pandas.\n",
        "#En sql, sería equivalente a tener una tabla con una clave primaria compuesta por más de una columna. que se usa con el método groupby.\n",
        "#Para crear un multi-índice, se puede utilizar el método set_index de un DataFrame de pandas.\n",
        "\n",
        "countries_reviewed = reviews.groupby(['country', 'province']).description.agg([len])\n",
        "countries_reviewed\n",
        "#En este caso, agruparemos los datos por las columnas 'country' y 'province' y calcularemos el número de descripciones en cada grupo.\n",
        "#Esto nos dará una idea de la cantidad de vinos revisados en cada país y provincia.\n",
        "\n",
        "mi = countries_reviewed.index\n",
        "type(mi)\n",
        "#En este caso, accederemos al índice del DataFrame countries_reviewed y comprobaremos su tipo.\n",
        "#El tipo de datos de un multi-índice es pandas.core.indexes.multi.MultiIndex.\n",
        "\n",
        "countries_reviewed.reset_index()\n",
        "#En este caso, resetearemos el índice del DataFrame countries_reviewed.\n",
        "#Esto convertirá el multi-índice en columnas normales del DataFrame."
      ]
    },
    {
      "cell_type": "markdown",
      "metadata": {},
      "source": [
        "Sorting"
      ]
    },
    {
      "cell_type": "code",
      "execution_count": null,
      "metadata": {},
      "outputs": [],
      "source": [
        "#El sorteo es un algoritmo de agrupamiento que asigna cada punto a un clúster de acuerdo con la probabilidad de que pertenezca a ese clúster.\n",
        "#Para ello, utilizaremos la distancia euclidiana y la función de densidad de probabilidad gaussiana.\n",
        "#La función de densidad de probabilidad gaussiana es una función que describe la probabilidad de que una variable aleatoria tenga un valor en un rango específico.\n",
        "#En este caso, utilizaremos la distancia euclidiana entre los puntos y los centroides de los clústeres como la variable aleatoria.\n",
        "\n",
        "countries_reviewed = countries_reviewed.reset_index()\n",
        "countries_reviewed.sort_values(by='len')\n",
        "#En este caso, ordenaremos el DataFrame countries_reviewed por la columna 'len'.\n",
        "#Esto nos dará una idea de los países y provincias con menos vinos revisados.\n",
        "\n",
        "#Sort values es un método de pandas que se utiliza para ordenar un DataFrame por los valores de una o más columnas.\n",
        "#Por defecto, el método ordena los valores de forma ascendente, pero se puede especificar el parámetro ascending=False para ordenar de forma descendente.\n",
        "\n",
        "countries_reviewed.sort_values(by='len', ascending=False)\n",
        "#En este caso, ordenaremos el DataFrame countries_reviewed por la columna 'len' de forma descendente.\n",
        "#Esto nos dará una idea de los países y provincias con más vinos revisados.\n",
        "\n",
        "countries_reviewed.sort_index()\n",
        "#En este caso, ordenaremos el DataFrame countries_reviewed por el índice.\n",
        "#Esto restaurará el orden original del DataFrame.\n",
        "\n",
        "countries_reviewed.sort_values(by=['country', 'len'])\n",
        "#En este caso, ordenaremos el DataFrame countries_reviewed por las columnas 'country' y 'len'.\n",
        "#Esto nos dará una idea de los países con menos vinos revisados en primer lugar."
      ]
    },
    {
      "cell_type": "markdown",
      "metadata": {},
      "source": [
        "EJERCICIOS EN KAGGLE"
      ]
    },
    {
      "cell_type": "markdown",
      "metadata": {},
      "source": [
        "1. Who are the most common wine reviewers in the dataset? Create a Series whose index is the taster_twitter_handle category from the dataset, and whose values count how many reviews each person wrote."
      ]
    },
    {
      "cell_type": "code",
      "execution_count": null,
      "metadata": {},
      "outputs": [],
      "source": [
        "reviews_written = reviews.groupby('taster_twitter_handle').taster_twitter_handle.count()\n",
        "reviews_written\n",
        "#En este caso, agruparemos los datos por la columna 'taster_twitter_handle' y contaremos el número de vinos revisados por cada crítico.\n",
        "#Esto nos dará una idea de la cantidad de vinos revisados por cada crítico."
      ]
    },
    {
      "cell_type": "code",
      "execution_count": null,
      "metadata": {},
      "outputs": [],
      "source": [
        "reviews_written = reviews.groupby('taster_twitter_handle').size()\n",
        "reviews_written\n",
        "#En este caso, utilizaremos el método size en lugar de count para contar el número de vinos revisados por cada crítico.\n",
        "#El método size cuenta el número de elementos en cada grupo, incluidos los valores nulos."
      ]
    },
    {
      "cell_type": "markdown",
      "metadata": {},
      "source": [
        "2. What is the best wine I can buy for a given amount of money? Create a Series whose index is wine prices and whose values is the maximum number of points a wine costing that much was given in a review. Sort the values by price, ascending (so that 4.0 dollars is at the top and 3300.0 dollars is at the bottom)."
      ]
    },
    {
      "cell_type": "code",
      "execution_count": null,
      "metadata": {},
      "outputs": [],
      "source": [
        "best_rating_per_price = reviews.groupby('price')['points'].max().sort_index()\n",
        "best_rating_per_price\n",
        "#En este caso, agruparemos los datos por la columna 'price' y seleccionaremos la puntuación máxima en cada grupo.\n",
        "#Luego, ordenaremos los resultados por el precio.\n",
        "#Esto nos dará una idea de la puntuación máxima para cada precio de vino."
      ]
    },
    {
      "cell_type": "markdown",
      "metadata": {},
      "source": [
        "3. What are the minimum and maximum prices for each variety of wine? Create a DataFrame whose index is the variety category from the dataset and whose values are the min and max values thereof."
      ]
    },
    {
      "cell_type": "code",
      "execution_count": null,
      "metadata": {},
      "outputs": [],
      "source": [
        "price_extremes = reviews.groupby('variety').price.agg([min, max])\n",
        "price_extremes\n",
        "#En este caso, agruparemos los datos por la columna 'variety' y calcularemos el precio mínimo y máximo en cada grupo.  \n",
        "#Esto nos dará una idea de los precios extremos de cada variedad de vino."
      ]
    },
    {
      "cell_type": "markdown",
      "metadata": {},
      "source": [
        "4. What are the most expensive wine varieties? Create a variable sorted_varieties containing a copy of the dataframe from the previous question where varieties are sorted in descending order based on minimum price, then on maximum price (to break ties)."
      ]
    },
    {
      "cell_type": "code",
      "execution_count": null,
      "metadata": {},
      "outputs": [],
      "source": [
        "sorted_varieties = price_extremes.sort_values(by=['min', 'max'], ascending=False)\n",
        "sorted_varieties\n",
        "#En este caso, ordenaremos el DataFrame price_extremes por los precios mínimo y máximo de forma descendente. \n",
        "#Esto nos dará una idea de las variedades de vino con los precios más altos."
      ]
    },
    {
      "cell_type": "markdown",
      "metadata": {},
      "source": [
        "5. Create a Series whose index is reviewers and whose values is the average review score given out by that reviewer. Hint: you will need the taster_name and points columns."
      ]
    },
    {
      "cell_type": "code",
      "execution_count": null,
      "metadata": {},
      "outputs": [],
      "source": [
        "reviewer_mean_ratings = reviews.groupby('taster_name').points.mean()\n",
        "reviewer_mean_ratings\n",
        "#En este caso, agruparemos los datos por la columna 'taster_name' y calcularemos la puntuación media de los vinos revisados por cada crítico.\n",
        "#Esto nos dará una idea de la puntuación media de los vinos revisados por cada crítico.\n",
        "\n",
        "reviewer_mean_ratings.describe()\n",
        "#En este caso, utilizaremos el método describe para obtener estadísticas descriptivas de la puntuación media de los vinos revisados por cada crítico.\n",
        "#Esto nos dará una idea de la distribución de las puntuaciones medias."
      ]
    },
    {
      "cell_type": "markdown",
      "metadata": {},
      "source": [
        "6. What combination of countries and varieties are most common? Create a Series whose index is a MultiIndexof {country, variety} pairs. For example, a pinot noir produced in the US should map to {\"US\", \"Pinot Noir\"}. Sort the values in the Series in descending order based on wine count."
      ]
    },
    {
      "cell_type": "code",
      "execution_count": null,
      "metadata": {},
      "outputs": [],
      "source": [
        "country_variety_counts = reviews.groupby(['country', 'variety']).size().sort_values(ascending=False)\n",
        "country_variety_counts\n",
        "#En este caso, agruparemos los datos por las columnas 'country' y 'variety' y contaremos el número de vinos revisados en cada grupo.\n",
        "#Luego, ordenaremos los resultados de forma descendente.\n",
        "#Esto nos dará una idea de las variedades de vino más comunes en cada país."
      ]
    }
  ],
  "metadata": {
    "colab": {
      "include_colab_link": true,
      "provenance": []
    },
    "kernelspec": {
      "display_name": "Python 3.10.7 64-bit",
      "language": "python",
      "name": "python3"
    },
    "language_info": {
      "codemirror_mode": {
        "name": "ipython",
        "version": 3
      },
      "file_extension": ".py",
      "mimetype": "text/x-python",
      "name": "python",
      "nbconvert_exporter": "python",
      "pygments_lexer": "ipython3",
      "version": "3.10.7"
    },
    "orig_nbformat": 4,
    "vscode": {
      "interpreter": {
        "hash": "eb4a0ac80907d7f44e1a5e88d3d3381b33e3dbedd3a24d113e876f30a0c46bee"
      }
    }
  },
  "nbformat": 4,
  "nbformat_minor": 0
}
