{
  "cells": [
    {
      "cell_type": "markdown",
      "metadata": {},
      "source": [
        "# Renombrado y Combinación\n",
        "\n",
        "En este JNB se revisará el tema de Renombrado y Combinación en Pandas."
      ]
    },
    {
      "cell_type": "code",
      "execution_count": null,
      "metadata": {
        "id": "O8NoTzxjs2wK",
        "outputId": "fa4bc249-a4fa-48a6-9dc6-7733646ed223"
      },
      "outputs": [
        {
          "name": "stdout",
          "output_type": "stream",
          "text": [
            "Hello World!\n"
          ]
        }
      ],
      "source": [
        "#El Renombrado es un proceso que se realiza para cambiar el nombre de un archivo o directorio. En pandas\n",
        "#se puede realizar el renombrado de columnas de un DataFrame. Esto sirve para cambiar el nombre de las columnas\n",
        "#de un DataFrame. Para renombrar las columnas de un DataFrame se utiliza el método rename().\n",
        "\n",
        "#Las Combinaciones de Datos se refiere a la combinación de dos o más DataFrames. En pandas se pueden combinar\n",
        "#dos o más DataFrames utilizando el método merge(). El método merge() combina los DataFrames utilizando una\n",
        "#columna común. La columna común se especifica utilizando el argumento on. El método merge() combina los DataFrames\n",
        "#utilizando la columna común y devuelve un nuevo DataFrame."
      ]
    },
    {
      "cell_type": "markdown",
      "metadata": {},
      "source": [
        "Renaming"
      ]
    },
    {
      "cell_type": "code",
      "execution_count": null,
      "metadata": {},
      "outputs": [],
      "source": [
        "reviews.rename(columns={'points': 'score'})\n",
        "#El método rename() toma un diccionario como argumento. El diccionario contiene el nombre de las columnas que se\n",
        "#quieren renombrar. El método rename() renombra las columnas del DataFrame y devuelve un nuevo DataFrame con las\n",
        "#columnas renombradas.\n",
        "\n",
        "reviews.rename(index={0: 'firstEntry', 1: 'secondEntry'})\n",
        "#El método rename() también se puede utilizar para renombrar las filas de un DataFrame. El método rename() toma un\n",
        "#diccionario como argumento. El diccionario contiene el nombre de las filas que se quieren renombrar. El método\n",
        "#rename() renombra las filas del DataFrame y devuelve un nuevo DataFrame con las filas renombradas.\n",
        "\n",
        "reviews.rename_axis(\"wines\", axis='rows').rename_axis(\"fields\", axis='columns')\n",
        "#El método rename_axis() se utiliza para renombrar los índices de un DataFrame. El método rename_axis() toma dos\n",
        "#argumentos. El primer argumento es el nombre que se quiere dar a los índices. El segundo argumento es el eje en\n",
        "#el que se quieren renombrar los índices. El método rename_axis() renombra los índices del DataFrame y devuelve\n",
        "#un nuevo DataFrame con los índices renombrados. Sintaxis: DataFrame.rename_axis(name, axis='rows')"
      ]
    },
    {
      "cell_type": "markdown",
      "metadata": {},
      "source": [
        "Combining"
      ]
    },
    {
      "cell_type": "code",
      "execution_count": null,
      "metadata": {},
      "outputs": [],
      "source": [
        "canadian_youtube = pd.read_csv(\"../input/youtube-new/CAvideos.csv\")\n",
        "british_youtube = pd.read_csv(\"../input/youtube-new/GBvideos.csv\")\n",
        "\n",
        "pd.concat([canadian_youtube, british_youtube])\n",
        "#El método concat() se utiliza para combinar dos o más DataFrames. El método concat() toma una lista de DataFrames\n",
        "#como argumento. El método concat() combina los DataFrames y devuelve un nuevo DataFrame con los DataFrames combinados.\n",
        "\n",
        "left = canadian_youtube.set_index(['title', 'trending_date'])\n",
        "right = british_youtube.set_index(['title', 'trending_date'])\n",
        "\n",
        "left.join(right, lsuffix='_CAN', rsuffix='_UK')\n",
        "#El método join() se utiliza para combinar dos DataFrames utilizando una columna común. El método join() toma dos\n",
        "#argumentos. El primer argumento es el DataFrame con el que se quiere combinar el DataFrame actual. El segundo\n",
        "#argumento es el tipo de unión que se quiere realizar. El método join() combina los DataFrames utilizando la columna\n",
        "#común y devuelve un nuevo DataFrame con los DataFrames combinados. Se asemeja mucho al método en sql JOIN.\n",
        "#El isuffix y rsuffix se utilizan para agregar un sufijo a las columnas que tienen el mismo nombre en ambos DataFrames.\n",
        "#Sirve para diferenciar las columnas que tienen el mismo nombre en ambos DataFrames.{lsuffix='_CAN', rsuffix='_UK'}"
      ]
    },
    {
      "cell_type": "markdown",
      "metadata": {},
      "source": [
        "EJERCICIOS EN KAGGLE"
      ]
    },
    {
      "cell_type": "markdown",
      "metadata": {},
      "source": [
        "1. region_1 and region_2 are pretty uninformative names for locale columns in the dataset. Create a copy of reviews with these columns renamed to region and locale, respectively."
      ]
    },
    {
      "cell_type": "code",
      "execution_count": null,
      "metadata": {},
      "outputs": [],
      "source": [
        "renamed = reviews.rename(columns=dict(region_1='region', region_2='locale'))\n",
        "reindexed = renamed.set_index(['country', 'region'])\n",
        "#El método set_index() se utiliza para establecer una columna como índice de un DataFrame. El método set_index()\n",
        "#toma una lista de columnas como argumento. El método set_index() establece la columna especificada como índice\n",
        "#del DataFrame y devuelve un nuevo DataFrame con la columna especificada como índice."
      ]
    },
    {
      "cell_type": "markdown",
      "metadata": {},
      "source": [
        "2. Set the index name in the dataset to wines."
      ]
    },
    {
      "cell_type": "code",
      "execution_count": null,
      "metadata": {},
      "outputs": [],
      "source": [
        "reindexed = reviews.rename_axis(\"wines\", axis='rows').rename_axis(\"fields\", axis='columns')\n",
        "#El método rename_axis() se utiliza para renombrar los índices de un DataFrame. El método rename_axis() toma dos\n",
        "#argumentos. El primer argumento es el nombre que se quiere dar a los índices. El segundo argumento es el eje en\n",
        "#el que se quieren renombrar los índices. El método rename_axis() renombra los índices del DataFrame y devuelve\n",
        "#un nuevo DataFrame con los índices renombrados. Sintaxis: DataFrame.rename_axis(name, axis='rows')"
      ]
    },
    {
      "cell_type": "markdown",
      "metadata": {},
      "source": [
        "3. The Things on Reddit dataset includes product links from a selection of top-ranked forums (\"subreddits\") on reddit.com. Run the cell below to load a dataframe of products mentioned on the /r/gaming subreddit and another dataframe for products mentioned on the r//movies subreddit."
      ]
    },
    {
      "cell_type": "code",
      "execution_count": 1,
      "metadata": {},
      "outputs": [
        {
          "ename": "NameError",
          "evalue": "name 'pd' is not defined",
          "output_type": "error",
          "traceback": [
            "\u001b[0;31m---------------------------------------------------------------------------\u001b[0m",
            "\u001b[0;31mNameError\u001b[0m                                 Traceback (most recent call last)",
            "Cell \u001b[0;32mIn[1], line 1\u001b[0m\n\u001b[0;32m----> 1\u001b[0m gaming_products \u001b[38;5;241m=\u001b[39m \u001b[43mpd\u001b[49m\u001b[38;5;241m.\u001b[39mread_csv(\u001b[38;5;124m\"\u001b[39m\u001b[38;5;124m../input/things-on-reddit/top-things/top-things/reddits/g/gaming.csv\u001b[39m\u001b[38;5;124m\"\u001b[39m)\n\u001b[1;32m      2\u001b[0m gaming_products[\u001b[38;5;124m'\u001b[39m\u001b[38;5;124msubreddit\u001b[39m\u001b[38;5;124m'\u001b[39m] \u001b[38;5;241m=\u001b[39m \u001b[38;5;124m\"\u001b[39m\u001b[38;5;124mr/gaming\u001b[39m\u001b[38;5;124m\"\u001b[39m\n\u001b[1;32m      3\u001b[0m movie_products \u001b[38;5;241m=\u001b[39m pd\u001b[38;5;241m.\u001b[39mread_csv(\u001b[38;5;124m\"\u001b[39m\u001b[38;5;124m../input/things-on-reddit/top-things/top-things/reddits/m/movies.csv\u001b[39m\u001b[38;5;124m\"\u001b[39m)\n",
            "\u001b[0;31mNameError\u001b[0m: name 'pd' is not defined"
          ]
        }
      ],
      "source": [
        "gaming_products = pd.read_csv(\"../input/things-on-reddit/top-things/top-things/reddits/g/gaming.csv\")\n",
        "gaming_products['subreddit'] = \"r/gaming\"\n",
        "movie_products = pd.read_csv(\"../input/things-on-reddit/top-things/top-things/reddits/m/movies.csv\")\n",
        "movie_products['subreddit'] = \"r/movies\""
      ]
    },
    {
      "cell_type": "markdown",
      "metadata": {},
      "source": [
        "Create a `DataFrame` of products mentioned on *either* subreddit."
      ]
    },
    {
      "cell_type": "code",
      "execution_count": null,
      "metadata": {},
      "outputs": [],
      "source": [
        "combined_products = pd.concat([gaming_products, movie_products])\n",
        "#El método concat() se utiliza para combinar dos o más DataFrames. El método concat() toma una lista de DataFrames\n",
        "#como argumento. El método concat() combina los DataFrames y devuelve un nuevo DataFrame con los DataFrames combinados."
      ]
    },
    {
      "cell_type": "markdown",
      "metadata": {},
      "source": [
        "4. The Powerlifting Database dataset on Kaggle includes one CSV table for powerlifting meets and a separate one for powerlifting competitors. Run the cell below to load these datasets into dataframes:"
      ]
    },
    {
      "cell_type": "code",
      "execution_count": null,
      "metadata": {},
      "outputs": [],
      "source": [
        "powerlifting_meets = pd.read_csv(\"../input/powerlifting-database/meets.csv\")\n",
        "powerlifting_competitors = pd.read_csv(\"../input/powerlifting-database/openpowerlifting.csv\")\n",
        "\n",
        "#Both tables include references to a MeetID, a unique key for each meet (competition) included in the database. Using this, generate a dataset combining the two tables into one.\n",
        "\n",
        "powerlifting_combined = powerlifting_meets.set_index(\"MeetID\").join(powerlifting_competitors.set_index(\"MeetID\"))\n",
        "#El método join() se utiliza para combinar dos DataFrames utilizando una columna común. El método join() toma dos\n",
        "#argumentos. El primer argumento es el DataFrame con el que se quiere combinar el DataFrame actual. El segundo\n",
        "#argumento es el tipo de unión que se quiere realizar. El método join() combina los DataFrames utilizando la columna\n",
        "#común y devuelve un nuevo DataFrame con los DataFrames combinados."
      ]
    }
  ],
  "metadata": {
    "colab": {
      "include_colab_link": true,
      "provenance": []
    },
    "kernelspec": {
      "display_name": "Python 3",
      "language": "python",
      "name": "python3"
    },
    "language_info": {
      "codemirror_mode": {
        "name": "ipython",
        "version": 3
      },
      "file_extension": ".py",
      "mimetype": "text/x-python",
      "name": "python",
      "nbconvert_exporter": "python",
      "pygments_lexer": "ipython3",
      "version": "3.12.1"
    },
    "orig_nbformat": 4
  },
  "nbformat": 4,
  "nbformat_minor": 0
}
