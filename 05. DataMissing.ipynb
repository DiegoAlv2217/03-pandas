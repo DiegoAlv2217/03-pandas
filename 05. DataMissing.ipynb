{
  "cells": [
    {
      "cell_type": "markdown",
      "metadata": {},
      "source": [
        "# Tipos de Datos y Valores Extraviados\n",
        "\n",
        "En este JNB se revisará el tema de Tipos de Datos y Valores Extraviados en Pandas."
      ]
    },
    {
      "cell_type": "markdown",
      "metadata": {},
      "source": [
        "Dtypes"
      ]
    },
    {
      "cell_type": "code",
      "execution_count": null,
      "metadata": {},
      "outputs": [],
      "source": [
        "#Dtypes son los tipos de datos que se pueden almacenar en un dataframe\n",
        "#Puedes usarlos para especificar el tipo de dato que quieres almacenar en una columna\n",
        "\n",
        "reviews.price.dtype\n",
        "#Esto nos regresa el tipo de dato que se almacena en la columna price\n",
        "\n",
        "reviews.dtypes\n",
        "#Esto nos regresa el tipo de dato que se almacena en todas las columnas\n",
        "\n",
        "reviews.points.astype('float64')\n",
        "#Esto nos regresa la columna points como un float64\n",
        "#Si intentamos hacer esto con una columna que no se puede convertir a float64, nos regresará un error\n",
        "#Sirve para convertir una columna a un tipo de dato específico y poder hacer operaciones con ella, \n",
        "# más que nada con datos de tipo string a numéricos\n",
        "\n",
        "reviews.index.dtype\n",
        "#Esto nos regresa el tipo de dato que se almacena en el índice\n"
      ]
    },
    {
      "cell_type": "markdown",
      "metadata": {},
      "source": [
        "Missing Data"
      ]
    },
    {
      "cell_type": "code",
      "execution_count": null,
      "metadata": {
        "id": "O8NoTzxjs2wK",
        "outputId": "fa4bc249-a4fa-48a6-9dc6-7733646ed223"
      },
      "outputs": [
        {
          "name": "stdout",
          "output_type": "stream",
          "text": [
            "Hello World!\n"
          ]
        }
      ],
      "source": [
        "#Algunos valores pueden ser nulos, NaN, o NA, y pandas los maneja de manera especial\n",
        "#Para verificar si un valor es nulo, se usa la función isnull()\n",
        "\n",
        "reviews[pd.isnull(reviews.country)]\n",
        "#Esto nos regresa todos los valores nulos de la columna country\n",
        "\n",
        "#Reemplazar valores nulos es algo común en la ciencia de datos ya que los valores nulos pueden causar problemas\n",
        "#Para reemplazar valores nulos se usa la función fillna()\n",
        "#Hay que especificar por qué no existen los datos en los valores nulos ya que esto también nos puede dar información\n",
        "\n",
        "reviews.region_2.fillna(\"Unknown\")\n",
        "#Esto reemplaza todos los valores nulos de la columna region_2 por \"Unknown\""
      ]
    },
    {
      "cell_type": "markdown",
      "metadata": {},
      "source": [
        "EJERCICIOS EN KAGGLE"
      ]
    },
    {
      "cell_type": "markdown",
      "metadata": {},
      "source": [
        "1. What is the data type of the points column in the dataset?"
      ]
    },
    {
      "cell_type": "code",
      "execution_count": null,
      "metadata": {},
      "outputs": [],
      "source": [
        "dtype = reviews.points.dtype\n",
        "#Esto nos regresa el tipo de dato de la columna points"
      ]
    },
    {
      "cell_type": "markdown",
      "metadata": {},
      "source": [
        "2. Create a Series from entries in the points column, but convert the entries to strings. Hint: strings are str in native Python."
      ]
    },
    {
      "cell_type": "code",
      "execution_count": null,
      "metadata": {},
      "outputs": [],
      "source": [
        "point_strings = reviews.points.astype(str)\n",
        "#Esto convierte la columna points a un string"
      ]
    },
    {
      "cell_type": "markdown",
      "metadata": {},
      "source": [
        "3. Sometimes the price column is null. How many reviews in the dataset are missing a price?"
      ]
    },
    {
      "cell_type": "code",
      "execution_count": null,
      "metadata": {},
      "outputs": [],
      "source": [
        "n_missing_prices = reviews.price.isnull().sum()\n",
        "#Esto nos regresa la cantidad de valores nulos en la columna price"
      ]
    },
    {
      "cell_type": "markdown",
      "metadata": {},
      "source": [
        "4. What are the most common wine-producing regions? Create a Series counting the number of times each value occurs in the region_1 field. This field is often missing data, so replace missing values with Unknown. Sort in descending order. Your output should look something like this:\n",
        "\n",
        "Unknown                    21247\n",
        "Napa Valley                 4480\n",
        "                           ...  \n",
        "Bardolino Superiore            1\n",
        "Primitivo del Tarantino        1\n",
        "Name: region_1, Length: 1230, dtype: int64"
      ]
    },
    {
      "cell_type": "code",
      "execution_count": null,
      "metadata": {},
      "outputs": [],
      "source": [
        "reviews_per_region = reviews.region_1.fillna(\"Unknown\").value_counts().sort_values(ascending=False)\n",
        "#Esto nos regresa la cantidad de valores nulos en la columna region_1"
      ]
    }
  ],
  "metadata": {
    "colab": {
      "include_colab_link": true,
      "provenance": []
    },
    "kernelspec": {
      "display_name": "Python 3.10.7 64-bit",
      "language": "python",
      "name": "python3"
    },
    "language_info": {
      "codemirror_mode": {
        "name": "ipython",
        "version": 3
      },
      "file_extension": ".py",
      "mimetype": "text/x-python",
      "name": "python",
      "nbconvert_exporter": "python",
      "pygments_lexer": "ipython3",
      "version": "3.10.7"
    },
    "orig_nbformat": 4,
    "vscode": {
      "interpreter": {
        "hash": "eb4a0ac80907d7f44e1a5e88d3d3381b33e3dbedd3a24d113e876f30a0c46bee"
      }
    }
  },
  "nbformat": 4,
  "nbformat_minor": 0
}
