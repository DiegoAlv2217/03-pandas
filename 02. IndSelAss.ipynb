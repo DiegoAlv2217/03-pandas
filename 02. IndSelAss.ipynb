{
  "cells": [
    {
      "cell_type": "markdown",
      "metadata": {},
      "source": [
        "# Indexando, Seleccionando y Asignando datos\n",
        "\n",
        "En este JNB se revisará el tema de Indexamiento, Selección y Asignación de datos en Pandas"
      ]
    },
    {
      "cell_type": "markdown",
      "metadata": {},
      "source": [
        "TUTORIAL"
      ]
    },
    {
      "cell_type": "markdown",
      "metadata": {},
      "source": [
        "REVIEWS - REVISANDO LOS DATOS"
      ]
    },
    {
      "cell_type": "code",
      "execution_count": null,
      "metadata": {},
      "outputs": [],
      "source": [
        "reviews.country\n",
        "#Esta función nos muestra la columna country de nuestro dataset\n",
        "\n",
        "reviews['country']\n",
        "\n",
        "reviews['country'][0]\n",
        "\n",
        "reviews.iloc[0]\n",
        "#Sirve para seleccionar la primera fila de un dataframe, \n",
        "# iloc significa index location y se usa para seleccionar filas \n",
        "# y columnas por su posición en el dataframe\n",
        "\n",
        "reviews.iloc[:, 0]\n",
        "#Esto es para seleccionar la primera columna del dataframe\n",
        "\n",
        "reviews.iloc[:3, 0]\n",
        "#Esto es para seleccionar las primeras 3 filas de la columna 0\n",
        "\n",
        "reviews.iloc[1:3, 0]\n",
        "#Esto es para seleccionar las filas 1 y 2 de la columna 0\n",
        "\n",
        "reviews.iloc[[0, 1, 2], 0]\n",
        "#Esto es para seleccionar las filas 0, 1 y 2 de la columna 0\n",
        "\n",
        "reviews.iloc[-5:]\n",
        "#Esto es para seleccionar las últimas 5 filas del dataframe\n",
        "\n",
        "reviews.loc[0, 'country']\n",
        "#Esto es para seleccionar la primera fila de la columna country\n",
        "\n",
        "reviews.loc[:, ['taster_name', 'taster_twitter_handle', 'points']]\n",
        "#Esto es para seleccionar todas las filas de las columnas taster_name, \n",
        "# taster_twitter_handle y points\n",
        "\n",
        "#Diferencias entre loc e iloc:\n",
        "#iloc se usa para seleccionar filas y columnas por su POSICIÓN en el dataframe\n",
        "#loc se usa para seleccionar filas y columnas por su ETIQUETA en el dataframe"
      ]
    },
    {
      "cell_type": "markdown",
      "metadata": {},
      "source": [
        "Manipulando el index"
      ]
    },
    {
      "cell_type": "code",
      "execution_count": null,
      "metadata": {},
      "outputs": [],
      "source": [
        "reviews.set_index(\"title\")\n",
        "#Esto es para seleccionar la columna title como índice\n",
        "\n",
        "#Condicional Selection\n",
        "reviews.country == 'Italy'\n",
        "#Esto es para seleccionar las filas en las que el país sea Italia\n",
        "\n",
        "reviews.loc[reviews.country == 'Italy']\n",
        "#Esto es para seleccionar las filas en las que el país sea Italia y \n",
        "# con el loc se seleccionan todas las columnas\n",
        "\n",
        "reviews.loc[(reviews.country == 'Italy') & (reviews.points >= 90)]\n",
        "#Esto es para seleccionar las filas en las que el país sea Italia y\n",
        "# los puntos sean mayores o iguales a 90\n",
        "\n",
        "reviews.loc[(reviews.country == 'Italy') | (reviews.points >= 90)]\n",
        "#Esto es para seleccionar las filas en las que el país sea Italia o\n",
        "# los puntos sean mayores o iguales a 90\n",
        "\n",
        "reviews.loc[reviews.country.isin(['Italy', 'France'])]\n",
        "#Esto es para seleccionar las filas en las que el país sea Italia o Francia\n",
        "#Isin es una función que se usa para seleccionar filas con valores específicos\n",
        "\n",
        "reviews.loc[reviews.price.notnull()]\n",
        "#Esto es para seleccionar las filas en las que el precio no sea nulo\n",
        "#Notnull es una función que se usa para seleccionar filas con valores no nulos"
      ]
    },
    {
      "cell_type": "markdown",
      "metadata": {},
      "source": [
        "Asignar data"
      ]
    },
    {
      "cell_type": "code",
      "execution_count": null,
      "metadata": {},
      "outputs": [],
      "source": [
        "reviews['critic'] = 'everyone'\n",
        "reviews['critic']\n",
        "#Esto es para agregar una nueva columna llamada critic y asignarle el valor everyone\n",
        "#Se puede asignar un valor único a todas las filas de una columna\n",
        "\n",
        "reviews['index_backwards'] = range(len(reviews), 0, -1)\n",
        "reviews['index_backwards']\n",
        "#Esto es para agregar una nueva columna llamada index_backwards y asignarle un rango de valores\n",
        "#Se puede asignar un rango de valores a una columna\n",
        "#Len es una función que se usa para contar el número de elementos en una lista\n",
        "#Range es una función que se usa para generar una secuencia de números\n",
        "\n",
        "#Esto modifica el dataframe original así que no es muy recomendable\n",
        "#Es mejor hacer una copia del dataframe"
      ]
    },
    {
      "cell_type": "markdown",
      "metadata": {},
      "source": [
        "EJERCICIOS DE KAGGLE"
      ]
    },
    {
      "cell_type": "code",
      "execution_count": null,
      "metadata": {},
      "outputs": [],
      "source": [
        "import pandas as pd\n",
        "\n",
        "reviews = pd.read_csv(\"../input/wine-reviews/winemag-data-130k-v2.csv\", index_col=0)\n",
        "pd.set_option(\"display.max_rows\", 5)\n",
        "\n",
        "from learntools.core import binder; binder.bind(globals())\n",
        "from learntools.pandas.indexing_selecting_and_assigning import *\n",
        "print(\"Setup complete.\")"
      ]
    },
    {
      "cell_type": "markdown",
      "metadata": {},
      "source": [
        "1. Select the description column from reviews and assign the result to the variable desc."
      ]
    },
    {
      "cell_type": "code",
      "execution_count": null,
      "metadata": {},
      "outputs": [],
      "source": [
        "desc = reviews[\"description\"]\n"
      ]
    },
    {
      "cell_type": "markdown",
      "metadata": {},
      "source": [
        "2.Select the first value from the description column of reviews, assigning it to variable first_description."
      ]
    },
    {
      "cell_type": "code",
      "execution_count": null,
      "metadata": {},
      "outputs": [],
      "source": [
        "first_description = reviews.description.iloc[0]\n",
        "first_description"
      ]
    },
    {
      "cell_type": "markdown",
      "metadata": {},
      "source": [
        "3. Select the first row of data (the first record) from reviews, assigning it to the variable first_row."
      ]
    },
    {
      "cell_type": "code",
      "execution_count": null,
      "metadata": {},
      "outputs": [],
      "source": [
        "first_row = reviews.iloc[0]\n",
        "first_row"
      ]
    },
    {
      "cell_type": "markdown",
      "metadata": {},
      "source": [
        "4.Select the first 10 values from the description column in reviews, assigning the result to variable first_descriptions.\n",
        "\n",
        "Hint: format your output as a pandas Series."
      ]
    },
    {
      "cell_type": "code",
      "execution_count": 1,
      "metadata": {},
      "outputs": [
        {
          "ename": "NameError",
          "evalue": "name 'reviews' is not defined",
          "output_type": "error",
          "traceback": [
            "\u001b[0;31m---------------------------------------------------------------------------\u001b[0m",
            "\u001b[0;31mNameError\u001b[0m                                 Traceback (most recent call last)",
            "Cell \u001b[0;32mIn[1], line 1\u001b[0m\n\u001b[0;32m----> 1\u001b[0m first_descriptions \u001b[38;5;241m=\u001b[39m \u001b[43mreviews\u001b[49m\u001b[38;5;241m.\u001b[39mdescription\u001b[38;5;241m.\u001b[39miloc[:\u001b[38;5;241m10\u001b[39m]\n\u001b[1;32m      2\u001b[0m first_descriptions\n",
            "\u001b[0;31mNameError\u001b[0m: name 'reviews' is not defined"
          ]
        }
      ],
      "source": [
        "first_descriptions = reviews.description.iloc[:10]\n",
        "first_descriptions"
      ]
    },
    {
      "cell_type": "markdown",
      "metadata": {},
      "source": [
        "5. Select the records with index labels 1, 2, 3, 5, and 8, assigning the result to the variable sample_reviews."
      ]
    },
    {
      "cell_type": "code",
      "execution_count": null,
      "metadata": {},
      "outputs": [],
      "source": [
        "indices = [1, 2, 3, 5, 8]\n",
        "sample_reviews = reviews.loc[indices]\n",
        "sample_reviews"
      ]
    },
    {
      "cell_type": "markdown",
      "metadata": {},
      "source": [
        "6. Create a variable df containing the country, province, region_1, and region_2 columns of the records with the index labels 0, 1, 10, and 100."
      ]
    },
    {
      "cell_type": "code",
      "execution_count": null,
      "metadata": {},
      "outputs": [],
      "source": [
        "cols = ['country', 'province', 'region_1', 'region_2']\n",
        "indices = [0, 1, 10, 100]\n",
        "df = reviews.loc[indices, cols]\n",
        "df"
      ]
    },
    {
      "cell_type": "markdown",
      "metadata": {},
      "source": [
        "7. Create a variable df containing the country and variety columns of the first 100 records.\n",
        "\n",
        "Hint: you may use loc or iloc. When working on the answer this question and the several of the ones that follow, keep the following \"gotcha\" described in the tutorial:\n",
        "\n",
        "iloc uses the Python stdlib indexing scheme, where the first element of the range is included and the last one excluded. loc, meanwhile, indexes inclusively.\n",
        "\n",
        "This is particularly confusing when the DataFrame index is a simple numerical list, e.g. 0,...,1000. In this case df.iloc[0:1000] will return 1000 entries, while df.loc[0:1000] return 1001 of them! To get 1000 elements using loc, you will need to go one lower and ask for df.iloc[0:999]."
      ]
    },
    {
      "cell_type": "code",
      "execution_count": null,
      "metadata": {},
      "outputs": [],
      "source": [
        "cols_idx = [0, 11]\n",
        "df = reviews.iloc[:100, cols_idx]\n",
        "df"
      ]
    },
    {
      "cell_type": "code",
      "execution_count": null,
      "metadata": {},
      "outputs": [],
      "source": [
        "cols_idx = [0, 11]\n",
        "df = reviews.iloc[:100, cols_idx]\n",
        "df"
      ]
    },
    {
      "cell_type": "markdown",
      "metadata": {},
      "source": [
        "8. Create a DataFrame italian_wines containing reviews of wines made in Italy. Hint: reviews.country equals what?"
      ]
    },
    {
      "cell_type": "code",
      "execution_count": null,
      "metadata": {},
      "outputs": [],
      "source": [
        "italian_wines = reviews[reviews.country == 'Italy']"
      ]
    },
    {
      "cell_type": "markdown",
      "metadata": {},
      "source": [
        "9. Create a DataFrame top_oceania_wines containing all reviews with at least 95 points (out of 100) for wines from Australia or New Zealand."
      ]
    },
    {
      "cell_type": "code",
      "execution_count": null,
      "metadata": {},
      "outputs": [],
      "source": [
        "top_oceania_wines = reviews.loc[\n",
        "    (reviews.country.isin(['Australia', 'New Zealand']))\n",
        "    & (reviews.points >= 95)\n",
        "]\n",
        "\n",
        "top_oceania_wines"
      ]
    }
  ],
  "metadata": {
    "colab": {
      "include_colab_link": true,
      "provenance": []
    },
    "kernelspec": {
      "display_name": "Python 3",
      "language": "python",
      "name": "python3"
    },
    "language_info": {
      "codemirror_mode": {
        "name": "ipython",
        "version": 3
      },
      "file_extension": ".py",
      "mimetype": "text/x-python",
      "name": "python",
      "nbconvert_exporter": "python",
      "pygments_lexer": "ipython3",
      "version": "3.12.1"
    },
    "orig_nbformat": 4
  },
  "nbformat": 4,
  "nbformat_minor": 0
}
